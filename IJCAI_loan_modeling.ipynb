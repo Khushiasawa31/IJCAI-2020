{
  "nbformat": 4,
  "nbformat_minor": 0,
  "metadata": {
    "colab": {
      "name": "IJCAI_loan_modeling.ipynb",
      "provenance": [],
      "collapsed_sections": []
    },
    "kernelspec": {
      "name": "python3",
      "display_name": "Python 3"
    }
  },
  "cells": [
    {
      "cell_type": "code",
      "metadata": {
        "id": "R4P5kou37Lh-"
      },
      "source": [
        "import pandas as pd\n",
        "import numpy as np\n",
        "import matplotlib.pyplot as plt\n",
        "from sklearn import model_selection, preprocessing, metrics\n",
        "from sklearn.preprocessing import LabelEncoder, OneHotEncoder, StandardScaler\n",
        "from sklearn.metrics import classification_report, confusion_matrix, accuracy_score\n",
        "from sklearn.model_selection import train_test_split\n",
        "import keras\n",
        "from keras.models import Sequential\n",
        "from keras.layers import Dense, Dropout"
      ],
      "execution_count": null,
      "outputs": []
    },
    {
      "cell_type": "code",
      "metadata": {
        "id": "3BRzcU9b7e0Q",
        "outputId": "6ebef2c5-3b69-43f6-889d-edab5038eaa0",
        "colab": {
          "base_uri": "https://localhost:8080/",
          "height": 195
        }
      },
      "source": [
        "df = pd.read_excel('Bank_Personal_Loan_Modelling.xlsx',\"Data\")\n",
        "df.head()"
      ],
      "execution_count": null,
      "outputs": [
        {
          "output_type": "execute_result",
          "data": {
            "text/html": [
              "<div>\n",
              "<style scoped>\n",
              "    .dataframe tbody tr th:only-of-type {\n",
              "        vertical-align: middle;\n",
              "    }\n",
              "\n",
              "    .dataframe tbody tr th {\n",
              "        vertical-align: top;\n",
              "    }\n",
              "\n",
              "    .dataframe thead th {\n",
              "        text-align: right;\n",
              "    }\n",
              "</style>\n",
              "<table border=\"1\" class=\"dataframe\">\n",
              "  <thead>\n",
              "    <tr style=\"text-align: right;\">\n",
              "      <th></th>\n",
              "      <th>ID</th>\n",
              "      <th>Age</th>\n",
              "      <th>Experience</th>\n",
              "      <th>Income</th>\n",
              "      <th>ZIP Code</th>\n",
              "      <th>Family</th>\n",
              "      <th>CCAvg</th>\n",
              "      <th>Education</th>\n",
              "      <th>Mortgage</th>\n",
              "      <th>Personal Loan</th>\n",
              "      <th>Securities Account</th>\n",
              "      <th>CD Account</th>\n",
              "      <th>Online</th>\n",
              "      <th>CreditCard</th>\n",
              "    </tr>\n",
              "  </thead>\n",
              "  <tbody>\n",
              "    <tr>\n",
              "      <th>0</th>\n",
              "      <td>1</td>\n",
              "      <td>25</td>\n",
              "      <td>1</td>\n",
              "      <td>49</td>\n",
              "      <td>91107</td>\n",
              "      <td>4</td>\n",
              "      <td>1.6</td>\n",
              "      <td>1</td>\n",
              "      <td>0</td>\n",
              "      <td>0</td>\n",
              "      <td>1</td>\n",
              "      <td>0</td>\n",
              "      <td>0</td>\n",
              "      <td>0</td>\n",
              "    </tr>\n",
              "    <tr>\n",
              "      <th>1</th>\n",
              "      <td>2</td>\n",
              "      <td>45</td>\n",
              "      <td>19</td>\n",
              "      <td>34</td>\n",
              "      <td>90089</td>\n",
              "      <td>3</td>\n",
              "      <td>1.5</td>\n",
              "      <td>1</td>\n",
              "      <td>0</td>\n",
              "      <td>0</td>\n",
              "      <td>1</td>\n",
              "      <td>0</td>\n",
              "      <td>0</td>\n",
              "      <td>0</td>\n",
              "    </tr>\n",
              "    <tr>\n",
              "      <th>2</th>\n",
              "      <td>3</td>\n",
              "      <td>39</td>\n",
              "      <td>15</td>\n",
              "      <td>11</td>\n",
              "      <td>94720</td>\n",
              "      <td>1</td>\n",
              "      <td>1.0</td>\n",
              "      <td>1</td>\n",
              "      <td>0</td>\n",
              "      <td>0</td>\n",
              "      <td>0</td>\n",
              "      <td>0</td>\n",
              "      <td>0</td>\n",
              "      <td>0</td>\n",
              "    </tr>\n",
              "    <tr>\n",
              "      <th>3</th>\n",
              "      <td>4</td>\n",
              "      <td>35</td>\n",
              "      <td>9</td>\n",
              "      <td>100</td>\n",
              "      <td>94112</td>\n",
              "      <td>1</td>\n",
              "      <td>2.7</td>\n",
              "      <td>2</td>\n",
              "      <td>0</td>\n",
              "      <td>0</td>\n",
              "      <td>0</td>\n",
              "      <td>0</td>\n",
              "      <td>0</td>\n",
              "      <td>0</td>\n",
              "    </tr>\n",
              "    <tr>\n",
              "      <th>4</th>\n",
              "      <td>5</td>\n",
              "      <td>35</td>\n",
              "      <td>8</td>\n",
              "      <td>45</td>\n",
              "      <td>91330</td>\n",
              "      <td>4</td>\n",
              "      <td>1.0</td>\n",
              "      <td>2</td>\n",
              "      <td>0</td>\n",
              "      <td>0</td>\n",
              "      <td>0</td>\n",
              "      <td>0</td>\n",
              "      <td>0</td>\n",
              "      <td>1</td>\n",
              "    </tr>\n",
              "  </tbody>\n",
              "</table>\n",
              "</div>"
            ],
            "text/plain": [
              "   ID  Age  Experience  ...  CD Account  Online  CreditCard\n",
              "0   1   25           1  ...           0       0           0\n",
              "1   2   45          19  ...           0       0           0\n",
              "2   3   39          15  ...           0       0           0\n",
              "3   4   35           9  ...           0       0           0\n",
              "4   5   35           8  ...           0       0           1\n",
              "\n",
              "[5 rows x 14 columns]"
            ]
          },
          "metadata": {
            "tags": []
          },
          "execution_count": 2
        }
      ]
    },
    {
      "cell_type": "code",
      "metadata": {
        "id": "vsafzvbO9RNW"
      },
      "source": [
        "df['Experience'] = df['Experience'].apply(abs)"
      ],
      "execution_count": null,
      "outputs": []
    },
    {
      "cell_type": "code",
      "metadata": {
        "id": "YL9st9Tv-lX-"
      },
      "source": [
        "df[[\"Age\",\"Experience\",\"Income\",\"CCAvg\",\"Mortgage\"]] = df[[\"Age\",\"Experience\",\"Income\",\"CCAvg\",\"Mortgage\"]].astype(float)"
      ],
      "execution_count": null,
      "outputs": []
    },
    {
      "cell_type": "code",
      "metadata": {
        "id": "-aATBIxB-xPM",
        "outputId": "f3e1fb08-6f82-4cb0-88ff-b76d4923611d",
        "colab": {
          "base_uri": "https://localhost:8080/",
          "height": 370
        }
      },
      "source": [
        "df.info()"
      ],
      "execution_count": null,
      "outputs": [
        {
          "output_type": "stream",
          "text": [
            "<class 'pandas.core.frame.DataFrame'>\n",
            "RangeIndex: 5000 entries, 0 to 4999\n",
            "Data columns (total 14 columns):\n",
            " #   Column              Non-Null Count  Dtype  \n",
            "---  ------              --------------  -----  \n",
            " 0   ID                  5000 non-null   int64  \n",
            " 1   Age                 5000 non-null   float64\n",
            " 2   Experience          5000 non-null   float64\n",
            " 3   Income              5000 non-null   float64\n",
            " 4   ZIP Code            5000 non-null   int64  \n",
            " 5   Family              5000 non-null   int64  \n",
            " 6   CCAvg               5000 non-null   float64\n",
            " 7   Education           5000 non-null   int64  \n",
            " 8   Mortgage            5000 non-null   float64\n",
            " 9   Personal Loan       5000 non-null   int64  \n",
            " 10  Securities Account  5000 non-null   int64  \n",
            " 11  CD Account          5000 non-null   int64  \n",
            " 12  Online              5000 non-null   int64  \n",
            " 13  CreditCard          5000 non-null   int64  \n",
            "dtypes: float64(5), int64(9)\n",
            "memory usage: 547.0 KB\n"
          ],
          "name": "stdout"
        }
      ]
    },
    {
      "cell_type": "code",
      "metadata": {
        "id": "1SdNW1rC_HPL"
      },
      "source": [
        "x = df.drop([\"ID\",\"Personal Loan\"],axis=1)\n",
        "y = df[\"Personal Loan\"]"
      ],
      "execution_count": null,
      "outputs": []
    },
    {
      "cell_type": "code",
      "metadata": {
        "id": "jJy7VDHOb-jS",
        "outputId": "318f01c8-9802-4f7e-8e7f-00bb3d7f1c6f",
        "colab": {
          "base_uri": "https://localhost:8080/",
          "height": 195
        }
      },
      "source": [
        "x.tail()"
      ],
      "execution_count": null,
      "outputs": [
        {
          "output_type": "execute_result",
          "data": {
            "text/html": [
              "<div>\n",
              "<style scoped>\n",
              "    .dataframe tbody tr th:only-of-type {\n",
              "        vertical-align: middle;\n",
              "    }\n",
              "\n",
              "    .dataframe tbody tr th {\n",
              "        vertical-align: top;\n",
              "    }\n",
              "\n",
              "    .dataframe thead th {\n",
              "        text-align: right;\n",
              "    }\n",
              "</style>\n",
              "<table border=\"1\" class=\"dataframe\">\n",
              "  <thead>\n",
              "    <tr style=\"text-align: right;\">\n",
              "      <th></th>\n",
              "      <th>Age</th>\n",
              "      <th>Experience</th>\n",
              "      <th>Income</th>\n",
              "      <th>ZIP Code</th>\n",
              "      <th>Family</th>\n",
              "      <th>CCAvg</th>\n",
              "      <th>Education</th>\n",
              "      <th>Mortgage</th>\n",
              "      <th>Securities Account</th>\n",
              "      <th>CD Account</th>\n",
              "      <th>Online</th>\n",
              "      <th>CreditCard</th>\n",
              "    </tr>\n",
              "  </thead>\n",
              "  <tbody>\n",
              "    <tr>\n",
              "      <th>4995</th>\n",
              "      <td>29.0</td>\n",
              "      <td>3.0</td>\n",
              "      <td>40.0</td>\n",
              "      <td>92697</td>\n",
              "      <td>1</td>\n",
              "      <td>1.9</td>\n",
              "      <td>3</td>\n",
              "      <td>0.0</td>\n",
              "      <td>0</td>\n",
              "      <td>0</td>\n",
              "      <td>1</td>\n",
              "      <td>0</td>\n",
              "    </tr>\n",
              "    <tr>\n",
              "      <th>4996</th>\n",
              "      <td>30.0</td>\n",
              "      <td>4.0</td>\n",
              "      <td>15.0</td>\n",
              "      <td>92037</td>\n",
              "      <td>4</td>\n",
              "      <td>0.4</td>\n",
              "      <td>1</td>\n",
              "      <td>85.0</td>\n",
              "      <td>0</td>\n",
              "      <td>0</td>\n",
              "      <td>1</td>\n",
              "      <td>0</td>\n",
              "    </tr>\n",
              "    <tr>\n",
              "      <th>4997</th>\n",
              "      <td>63.0</td>\n",
              "      <td>39.0</td>\n",
              "      <td>24.0</td>\n",
              "      <td>93023</td>\n",
              "      <td>2</td>\n",
              "      <td>0.3</td>\n",
              "      <td>3</td>\n",
              "      <td>0.0</td>\n",
              "      <td>0</td>\n",
              "      <td>0</td>\n",
              "      <td>0</td>\n",
              "      <td>0</td>\n",
              "    </tr>\n",
              "    <tr>\n",
              "      <th>4998</th>\n",
              "      <td>65.0</td>\n",
              "      <td>40.0</td>\n",
              "      <td>49.0</td>\n",
              "      <td>90034</td>\n",
              "      <td>3</td>\n",
              "      <td>0.5</td>\n",
              "      <td>2</td>\n",
              "      <td>0.0</td>\n",
              "      <td>0</td>\n",
              "      <td>0</td>\n",
              "      <td>1</td>\n",
              "      <td>0</td>\n",
              "    </tr>\n",
              "    <tr>\n",
              "      <th>4999</th>\n",
              "      <td>28.0</td>\n",
              "      <td>4.0</td>\n",
              "      <td>83.0</td>\n",
              "      <td>92612</td>\n",
              "      <td>3</td>\n",
              "      <td>0.8</td>\n",
              "      <td>1</td>\n",
              "      <td>0.0</td>\n",
              "      <td>0</td>\n",
              "      <td>0</td>\n",
              "      <td>1</td>\n",
              "      <td>1</td>\n",
              "    </tr>\n",
              "  </tbody>\n",
              "</table>\n",
              "</div>"
            ],
            "text/plain": [
              "       Age  Experience  Income  ...  CD Account  Online  CreditCard\n",
              "4995  29.0         3.0    40.0  ...           0       1           0\n",
              "4996  30.0         4.0    15.0  ...           0       1           0\n",
              "4997  63.0        39.0    24.0  ...           0       0           0\n",
              "4998  65.0        40.0    49.0  ...           0       1           0\n",
              "4999  28.0         4.0    83.0  ...           0       1           1\n",
              "\n",
              "[5 rows x 12 columns]"
            ]
          },
          "metadata": {
            "tags": []
          },
          "execution_count": 16
        }
      ]
    },
    {
      "cell_type": "code",
      "metadata": {
        "id": "erCVjgE_AaTs"
      },
      "source": [
        "SingleLog_y = np.log1p(x[\"Mortgage\"])\n",
        "DoubleLog_y = np.log1p(SingleLog_y)"
      ],
      "execution_count": null,
      "outputs": []
    },
    {
      "cell_type": "code",
      "metadata": {
        "id": "iOAlDvHtAzN4"
      },
      "source": [
        "x[\"Mortgage\"] = DoubleLog_y"
      ],
      "execution_count": null,
      "outputs": []
    },
    {
      "cell_type": "code",
      "metadata": {
        "id": "Zd42Z9xKA0xx"
      },
      "source": [
        "# Dropping irrelevant features\n",
        "x = x.drop([\"ZIP Code\",\"Age\",\"Online\"],axis=1)"
      ],
      "execution_count": null,
      "outputs": []
    },
    {
      "cell_type": "code",
      "metadata": {
        "id": "eHI1FWSRHHGS"
      },
      "source": [
        "# Adding a new feature\n",
        "x[\"Combination\"] = (x[\"Income\"]/12)**x[\"CCAvg\"]"
      ],
      "execution_count": null,
      "outputs": []
    },
    {
      "cell_type": "code",
      "metadata": {
        "id": "oWjTHE0fKxA7",
        "outputId": "dd67e329-a638-419a-85e1-79ab899fbc0a",
        "colab": {
          "base_uri": "https://localhost:8080/",
          "height": 195
        }
      },
      "source": [
        "x.head()"
      ],
      "execution_count": null,
      "outputs": [
        {
          "output_type": "execute_result",
          "data": {
            "text/html": [
              "<div>\n",
              "<style scoped>\n",
              "    .dataframe tbody tr th:only-of-type {\n",
              "        vertical-align: middle;\n",
              "    }\n",
              "\n",
              "    .dataframe tbody tr th {\n",
              "        vertical-align: top;\n",
              "    }\n",
              "\n",
              "    .dataframe thead th {\n",
              "        text-align: right;\n",
              "    }\n",
              "</style>\n",
              "<table border=\"1\" class=\"dataframe\">\n",
              "  <thead>\n",
              "    <tr style=\"text-align: right;\">\n",
              "      <th></th>\n",
              "      <th>Experience</th>\n",
              "      <th>Income</th>\n",
              "      <th>Family</th>\n",
              "      <th>CCAvg</th>\n",
              "      <th>Education</th>\n",
              "      <th>Mortgage</th>\n",
              "      <th>Securities Account</th>\n",
              "      <th>CD Account</th>\n",
              "      <th>CreditCard</th>\n",
              "      <th>Combination</th>\n",
              "    </tr>\n",
              "  </thead>\n",
              "  <tbody>\n",
              "    <tr>\n",
              "      <th>0</th>\n",
              "      <td>1.0</td>\n",
              "      <td>49.0</td>\n",
              "      <td>4</td>\n",
              "      <td>1.6</td>\n",
              "      <td>1</td>\n",
              "      <td>0.0</td>\n",
              "      <td>1</td>\n",
              "      <td>0</td>\n",
              "      <td>0</td>\n",
              "      <td>9.497816</td>\n",
              "    </tr>\n",
              "    <tr>\n",
              "      <th>1</th>\n",
              "      <td>19.0</td>\n",
              "      <td>34.0</td>\n",
              "      <td>3</td>\n",
              "      <td>1.5</td>\n",
              "      <td>1</td>\n",
              "      <td>0.0</td>\n",
              "      <td>1</td>\n",
              "      <td>0</td>\n",
              "      <td>0</td>\n",
              "      <td>4.769211</td>\n",
              "    </tr>\n",
              "    <tr>\n",
              "      <th>2</th>\n",
              "      <td>15.0</td>\n",
              "      <td>11.0</td>\n",
              "      <td>1</td>\n",
              "      <td>1.0</td>\n",
              "      <td>1</td>\n",
              "      <td>0.0</td>\n",
              "      <td>0</td>\n",
              "      <td>0</td>\n",
              "      <td>0</td>\n",
              "      <td>0.916667</td>\n",
              "    </tr>\n",
              "    <tr>\n",
              "      <th>3</th>\n",
              "      <td>9.0</td>\n",
              "      <td>100.0</td>\n",
              "      <td>1</td>\n",
              "      <td>2.7</td>\n",
              "      <td>2</td>\n",
              "      <td>0.0</td>\n",
              "      <td>0</td>\n",
              "      <td>0</td>\n",
              "      <td>0</td>\n",
              "      <td>306.344887</td>\n",
              "    </tr>\n",
              "    <tr>\n",
              "      <th>4</th>\n",
              "      <td>8.0</td>\n",
              "      <td>45.0</td>\n",
              "      <td>4</td>\n",
              "      <td>1.0</td>\n",
              "      <td>2</td>\n",
              "      <td>0.0</td>\n",
              "      <td>0</td>\n",
              "      <td>0</td>\n",
              "      <td>1</td>\n",
              "      <td>3.750000</td>\n",
              "    </tr>\n",
              "  </tbody>\n",
              "</table>\n",
              "</div>"
            ],
            "text/plain": [
              "   Experience  Income  Family  ...  CD Account  CreditCard  Combination\n",
              "0         1.0    49.0       4  ...           0           0     9.497816\n",
              "1        19.0    34.0       3  ...           0           0     4.769211\n",
              "2        15.0    11.0       1  ...           0           0     0.916667\n",
              "3         9.0   100.0       1  ...           0           0   306.344887\n",
              "4         8.0    45.0       4  ...           0           1     3.750000\n",
              "\n",
              "[5 rows x 10 columns]"
            ]
          },
          "metadata": {
            "tags": []
          },
          "execution_count": 22
        }
      ]
    },
    {
      "cell_type": "code",
      "metadata": {
        "id": "uHXOj3V0HRR5"
      },
      "source": [
        "from sklearn.preprocessing import MinMaxScaler,StandardScaler,robust_scale\n",
        "scaler = StandardScaler()\n",
        "\n",
        "colscal=[\"Experience\",\"Mortgage\",\"Income\",\"CCAvg\",\"Combination\"]\n",
        "\n",
        "scaler.fit(x[colscal])\n",
        "scaled_features = pd.DataFrame(scaler.transform(x[colscal]),columns=colscal)\n",
        "\n",
        "x =x.drop(colscal,axis=1)\n",
        "x = scaled_features.join(x)"
      ],
      "execution_count": null,
      "outputs": []
    },
    {
      "cell_type": "code",
      "metadata": {
        "id": "TQT0dtCXL6Wl"
      },
      "source": [
        "from sklearn.model_selection import train_test_split"
      ],
      "execution_count": null,
      "outputs": []
    },
    {
      "cell_type": "code",
      "metadata": {
        "id": "_Ad2qroCMcTA"
      },
      "source": [
        "x_train, x_test, y_train, y_test = train_test_split(x,y,test_size=0.3,random_state=42)"
      ],
      "execution_count": null,
      "outputs": []
    },
    {
      "cell_type": "code",
      "metadata": {
        "id": "5QWGMBHLMtig",
        "outputId": "174c6e62-8269-4d53-ac2e-4e255ddeafb9",
        "colab": {
          "base_uri": "https://localhost:8080/",
          "height": 50
        }
      },
      "source": [
        "print(x_train.shape)\n",
        "print(y_train.shape)"
      ],
      "execution_count": null,
      "outputs": [
        {
          "output_type": "stream",
          "text": [
            "(3500, 10)\n",
            "(3500,)\n"
          ],
          "name": "stdout"
        }
      ]
    },
    {
      "cell_type": "code",
      "metadata": {
        "id": "2YNBLQr8MvLk"
      },
      "source": [
        "def model(ip_dim):\n",
        "  classifier = Sequential()\n",
        "  classifier.add(Dense(units = 10, activation = 'relu', input_dim = ip_dim))\n",
        "  classifier.add(Dense(units = 20, activation = 'relu'))\n",
        "  classifier.add(Dropout(0.2))\n",
        "  classifier.add(Dense(units = 10, activation = 'relu'))\n",
        "  classifier.add(Dense(units = 1, activation = 'sigmoid'))\n",
        "  classifier.compile(optimizer = 'adam', loss = 'binary_crossentropy', metrics = ['accuracy'])\n",
        "  return classifier"
      ],
      "execution_count": null,
      "outputs": []
    },
    {
      "cell_type": "code",
      "metadata": {
        "id": "CEgm7cfZjMZg"
      },
      "source": [
        "def get_model_pers(ip_dim):\n",
        "  classifier = Sequential()\n",
        "  classifier.add(Dense(units = 6, activation = 'relu', input_dim = ip_dim))\n",
        "  classifier.add(Dense(units = 12, activation = 'relu'))\n",
        "  classifier.add(Dense(units = 6, activation = 'relu'))\n",
        "  classifier.add(Dense(units = 1, activation = 'sigmoid'))\n",
        "  classifier.compile(optimizer = 'adam', loss = 'binary_crossentropy', metrics = ['accuracy'])\n",
        "  return classifier"
      ],
      "execution_count": null,
      "outputs": []
    },
    {
      "cell_type": "code",
      "metadata": {
        "id": "rNQ4HsBEisox"
      },
      "source": [
        "def get_model_fin(ip_dim):\n",
        "  classifier = Sequential()\n",
        "  classifier.add(Dense(units = 4, activation = 'relu', input_dim = ip_dim))\n",
        "  classifier.add(Dense(units = 8, activation = 'relu'))\n",
        "  classifier.add(Dense(units = 4, activation = 'relu'))\n",
        "  classifier.add(Dense(units = 1, activation = 'sigmoid'))\n",
        "  classifier.compile(optimizer = 'adam', loss = 'binary_crossentropy', metrics = ['accuracy'])\n",
        "  return classifier"
      ],
      "execution_count": null,
      "outputs": []
    },
    {
      "cell_type": "code",
      "metadata": {
        "id": "M-y2yjqjNkOg"
      },
      "source": [
        "model_combined = model(x_train.shape[1])"
      ],
      "execution_count": null,
      "outputs": []
    },
    {
      "cell_type": "code",
      "metadata": {
        "id": "QllSNuvkOGSG",
        "outputId": "f5adc6c5-527a-4ab2-b7ca-e35bfc5646d1",
        "colab": {
          "base_uri": "https://localhost:8080/",
          "height": 1717
        }
      },
      "source": [
        "history_combined = model_combined.fit(x_train,y_train,batch_size=32,epochs=50,verbose=2)"
      ],
      "execution_count": null,
      "outputs": [
        {
          "output_type": "stream",
          "text": [
            "Epoch 1/50\n",
            " - 0s - loss: 0.5359 - accuracy: 0.8777\n",
            "Epoch 2/50\n",
            " - 0s - loss: 0.2807 - accuracy: 0.9077\n",
            "Epoch 3/50\n",
            " - 0s - loss: 0.2063 - accuracy: 0.9077\n",
            "Epoch 4/50\n",
            " - 0s - loss: 0.1749 - accuracy: 0.9077\n",
            "Epoch 5/50\n",
            " - 0s - loss: 0.1584 - accuracy: 0.9137\n",
            "Epoch 6/50\n",
            " - 0s - loss: 0.1403 - accuracy: 0.9420\n",
            "Epoch 7/50\n",
            " - 0s - loss: 0.1240 - accuracy: 0.9546\n",
            "Epoch 8/50\n",
            " - 0s - loss: 0.1091 - accuracy: 0.9597\n",
            "Epoch 9/50\n",
            " - 0s - loss: 0.1014 - accuracy: 0.9634\n",
            "Epoch 10/50\n",
            " - 0s - loss: 0.0924 - accuracy: 0.9649\n",
            "Epoch 11/50\n",
            " - 0s - loss: 0.0896 - accuracy: 0.9671\n",
            "Epoch 12/50\n",
            " - 0s - loss: 0.0860 - accuracy: 0.9666\n",
            "Epoch 13/50\n",
            " - 0s - loss: 0.0787 - accuracy: 0.9740\n",
            "Epoch 14/50\n",
            " - 0s - loss: 0.0761 - accuracy: 0.9737\n",
            "Epoch 15/50\n",
            " - 0s - loss: 0.0769 - accuracy: 0.9737\n",
            "Epoch 16/50\n",
            " - 0s - loss: 0.0768 - accuracy: 0.9726\n",
            "Epoch 17/50\n",
            " - 0s - loss: 0.0690 - accuracy: 0.9769\n",
            "Epoch 18/50\n",
            " - 0s - loss: 0.0710 - accuracy: 0.9766\n",
            "Epoch 19/50\n",
            " - 0s - loss: 0.0692 - accuracy: 0.9769\n",
            "Epoch 20/50\n",
            " - 0s - loss: 0.0673 - accuracy: 0.9766\n",
            "Epoch 21/50\n",
            " - 0s - loss: 0.0701 - accuracy: 0.9754\n",
            "Epoch 22/50\n",
            " - 0s - loss: 0.0685 - accuracy: 0.9757\n",
            "Epoch 23/50\n",
            " - 0s - loss: 0.0660 - accuracy: 0.9777\n",
            "Epoch 24/50\n",
            " - 0s - loss: 0.0627 - accuracy: 0.9777\n",
            "Epoch 25/50\n",
            " - 0s - loss: 0.0667 - accuracy: 0.9771\n",
            "Epoch 26/50\n",
            " - 0s - loss: 0.0604 - accuracy: 0.9800\n",
            "Epoch 27/50\n",
            " - 0s - loss: 0.0621 - accuracy: 0.9771\n",
            "Epoch 28/50\n",
            " - 0s - loss: 0.0606 - accuracy: 0.9774\n",
            "Epoch 29/50\n",
            " - 0s - loss: 0.0598 - accuracy: 0.9783\n",
            "Epoch 30/50\n",
            " - 0s - loss: 0.0582 - accuracy: 0.9780\n",
            "Epoch 31/50\n",
            " - 0s - loss: 0.0603 - accuracy: 0.9789\n",
            "Epoch 32/50\n",
            " - 0s - loss: 0.0561 - accuracy: 0.9803\n",
            "Epoch 33/50\n",
            " - 0s - loss: 0.0588 - accuracy: 0.9800\n",
            "Epoch 34/50\n",
            " - 0s - loss: 0.0561 - accuracy: 0.9806\n",
            "Epoch 35/50\n",
            " - 0s - loss: 0.0584 - accuracy: 0.9789\n",
            "Epoch 36/50\n",
            " - 0s - loss: 0.0571 - accuracy: 0.9797\n",
            "Epoch 37/50\n",
            " - 0s - loss: 0.0567 - accuracy: 0.9800\n",
            "Epoch 38/50\n",
            " - 0s - loss: 0.0551 - accuracy: 0.9794\n",
            "Epoch 39/50\n",
            " - 0s - loss: 0.0536 - accuracy: 0.9803\n",
            "Epoch 40/50\n",
            " - 0s - loss: 0.0562 - accuracy: 0.9811\n",
            "Epoch 41/50\n",
            " - 0s - loss: 0.0541 - accuracy: 0.9809\n",
            "Epoch 42/50\n",
            " - 0s - loss: 0.0527 - accuracy: 0.9837\n",
            "Epoch 43/50\n",
            " - 0s - loss: 0.0543 - accuracy: 0.9811\n",
            "Epoch 44/50\n",
            " - 0s - loss: 0.0523 - accuracy: 0.9817\n",
            "Epoch 45/50\n",
            " - 0s - loss: 0.0493 - accuracy: 0.9837\n",
            "Epoch 46/50\n",
            " - 0s - loss: 0.0532 - accuracy: 0.9829\n",
            "Epoch 47/50\n",
            " - 0s - loss: 0.0510 - accuracy: 0.9811\n",
            "Epoch 48/50\n",
            " - 0s - loss: 0.0536 - accuracy: 0.9817\n",
            "Epoch 49/50\n",
            " - 0s - loss: 0.0497 - accuracy: 0.9829\n",
            "Epoch 50/50\n",
            " - 0s - loss: 0.0484 - accuracy: 0.9814\n"
          ],
          "name": "stdout"
        }
      ]
    },
    {
      "cell_type": "code",
      "metadata": {
        "id": "7-qtS5xgO3tG",
        "outputId": "9492fa71-0586-44b9-9cac-ee686111bf5c",
        "colab": {
          "base_uri": "https://localhost:8080/",
          "height": 34
        }
      },
      "source": [
        "y_pred = model_combined.predict(x_test)\n",
        "print(accuracy_score(y_test,y_pred.round()))"
      ],
      "execution_count": null,
      "outputs": [
        {
          "output_type": "stream",
          "text": [
            "0.9833333333333333\n"
          ],
          "name": "stdout"
        }
      ]
    },
    {
      "cell_type": "code",
      "metadata": {
        "id": "I9LaHXK0PQif"
      },
      "source": [
        "x_train_fin = x_train.drop([\"Education\",\"Family\",\"Experience\",\"CCAvg\",\"Mortgage\",\"Income\"],axis=1)\n",
        "x_train_pers = x_train.drop([\"Securities Account\",\"CD Account\",\"CreditCard\",\"Combination\"],axis=1)"
      ],
      "execution_count": null,
      "outputs": []
    },
    {
      "cell_type": "code",
      "metadata": {
        "id": "SU8aMlF8hGN9",
        "outputId": "0d083d1e-4033-497d-d614-f6f7eb622eef",
        "colab": {
          "base_uri": "https://localhost:8080/",
          "height": 204
        }
      },
      "source": [
        "x_train_pers.head()"
      ],
      "execution_count": null,
      "outputs": [
        {
          "output_type": "execute_result",
          "data": {
            "text/html": [
              "<div>\n",
              "<style scoped>\n",
              "    .dataframe tbody tr th:only-of-type {\n",
              "        vertical-align: middle;\n",
              "    }\n",
              "\n",
              "    .dataframe tbody tr th {\n",
              "        vertical-align: top;\n",
              "    }\n",
              "\n",
              "    .dataframe thead th {\n",
              "        text-align: right;\n",
              "    }\n",
              "</style>\n",
              "<table border=\"1\" class=\"dataframe\">\n",
              "  <thead>\n",
              "    <tr style=\"text-align: right;\">\n",
              "      <th></th>\n",
              "      <th>Experience</th>\n",
              "      <th>Mortgage</th>\n",
              "      <th>Income</th>\n",
              "      <th>CCAvg</th>\n",
              "      <th>Family</th>\n",
              "      <th>Education</th>\n",
              "    </tr>\n",
              "  </thead>\n",
              "  <tbody>\n",
              "    <tr>\n",
              "      <th>1840</th>\n",
              "      <td>0.426264</td>\n",
              "      <td>1.376467</td>\n",
              "      <td>-1.103089</td>\n",
              "      <td>-0.880069</td>\n",
              "      <td>4</td>\n",
              "      <td>3</td>\n",
              "    </tr>\n",
              "    <tr>\n",
              "      <th>2115</th>\n",
              "      <td>0.951932</td>\n",
              "      <td>-0.665621</td>\n",
              "      <td>-0.951011</td>\n",
              "      <td>-0.307820</td>\n",
              "      <td>3</td>\n",
              "      <td>1</td>\n",
              "    </tr>\n",
              "    <tr>\n",
              "      <th>4437</th>\n",
              "      <td>1.565212</td>\n",
              "      <td>-0.665621</td>\n",
              "      <td>-0.234074</td>\n",
              "      <td>-0.250595</td>\n",
              "      <td>2</td>\n",
              "      <td>1</td>\n",
              "    </tr>\n",
              "    <tr>\n",
              "      <th>1146</th>\n",
              "      <td>-1.150740</td>\n",
              "      <td>1.350136</td>\n",
              "      <td>-0.060271</td>\n",
              "      <td>-1.051744</td>\n",
              "      <td>1</td>\n",
              "      <td>1</td>\n",
              "    </tr>\n",
              "    <tr>\n",
              "      <th>2486</th>\n",
              "      <td>1.389989</td>\n",
              "      <td>1.589034</td>\n",
              "      <td>1.221527</td>\n",
              "      <td>-0.365045</td>\n",
              "      <td>1</td>\n",
              "      <td>1</td>\n",
              "    </tr>\n",
              "  </tbody>\n",
              "</table>\n",
              "</div>"
            ],
            "text/plain": [
              "      Experience  Mortgage    Income     CCAvg  Family  Education\n",
              "1840    0.426264  1.376467 -1.103089 -0.880069       4          3\n",
              "2115    0.951932 -0.665621 -0.951011 -0.307820       3          1\n",
              "4437    1.565212 -0.665621 -0.234074 -0.250595       2          1\n",
              "1146   -1.150740  1.350136 -0.060271 -1.051744       1          1\n",
              "2486    1.389989  1.589034  1.221527 -0.365045       1          1"
            ]
          },
          "metadata": {
            "tags": []
          },
          "execution_count": 22
        }
      ]
    },
    {
      "cell_type": "code",
      "metadata": {
        "id": "fqRqUzX7hIna"
      },
      "source": [
        "x_test_fin = x_test.drop([\"Education\",\"Family\",\"Experience\",\"CCAvg\",\"Mortgage\",\"Income\"],axis=1)\n",
        "x_test_pers = x_test.drop([\"Securities Account\",\"CD Account\",\"CreditCard\",\"Combination\"],axis=1)"
      ],
      "execution_count": null,
      "outputs": []
    },
    {
      "cell_type": "code",
      "metadata": {
        "id": "10TaJK3lhPTS",
        "outputId": "c26ddb08-a326-4c35-c8dc-7a89fdb8a7f1",
        "colab": {
          "base_uri": "https://localhost:8080/",
          "height": 204
        }
      },
      "source": [
        "x_test_fin.head()"
      ],
      "execution_count": null,
      "outputs": [
        {
          "output_type": "execute_result",
          "data": {
            "text/html": [
              "<div>\n",
              "<style scoped>\n",
              "    .dataframe tbody tr th:only-of-type {\n",
              "        vertical-align: middle;\n",
              "    }\n",
              "\n",
              "    .dataframe tbody tr th {\n",
              "        vertical-align: top;\n",
              "    }\n",
              "\n",
              "    .dataframe thead th {\n",
              "        text-align: right;\n",
              "    }\n",
              "</style>\n",
              "<table border=\"1\" class=\"dataframe\">\n",
              "  <thead>\n",
              "    <tr style=\"text-align: right;\">\n",
              "      <th></th>\n",
              "      <th>Combination</th>\n",
              "      <th>Securities Account</th>\n",
              "      <th>CD Account</th>\n",
              "      <th>CreditCard</th>\n",
              "    </tr>\n",
              "  </thead>\n",
              "  <tbody>\n",
              "    <tr>\n",
              "      <th>1501</th>\n",
              "      <td>-0.028303</td>\n",
              "      <td>1</td>\n",
              "      <td>0</td>\n",
              "      <td>1</td>\n",
              "    </tr>\n",
              "    <tr>\n",
              "      <th>2586</th>\n",
              "      <td>-0.028198</td>\n",
              "      <td>0</td>\n",
              "      <td>0</td>\n",
              "      <td>1</td>\n",
              "    </tr>\n",
              "    <tr>\n",
              "      <th>2653</th>\n",
              "      <td>-0.028303</td>\n",
              "      <td>0</td>\n",
              "      <td>0</td>\n",
              "      <td>0</td>\n",
              "    </tr>\n",
              "    <tr>\n",
              "      <th>1055</th>\n",
              "      <td>-0.028303</td>\n",
              "      <td>1</td>\n",
              "      <td>0</td>\n",
              "      <td>0</td>\n",
              "    </tr>\n",
              "    <tr>\n",
              "      <th>705</th>\n",
              "      <td>-0.028303</td>\n",
              "      <td>0</td>\n",
              "      <td>0</td>\n",
              "      <td>0</td>\n",
              "    </tr>\n",
              "  </tbody>\n",
              "</table>\n",
              "</div>"
            ],
            "text/plain": [
              "      Combination  Securities Account  CD Account  CreditCard\n",
              "1501    -0.028303                   1           0           1\n",
              "2586    -0.028198                   0           0           1\n",
              "2653    -0.028303                   0           0           0\n",
              "1055    -0.028303                   1           0           0\n",
              "705     -0.028303                   0           0           0"
            ]
          },
          "metadata": {
            "tags": []
          },
          "execution_count": 25
        }
      ]
    },
    {
      "cell_type": "code",
      "metadata": {
        "id": "bS0a59HShQ1T"
      },
      "source": [
        "model_pers = get_model_pers(x_train_pers.shape[1])"
      ],
      "execution_count": null,
      "outputs": []
    },
    {
      "cell_type": "code",
      "metadata": {
        "id": "qL9YxrOlhg7e",
        "outputId": "b55e144f-aa2f-44e6-dcce-55bc4fd1140d",
        "colab": {
          "base_uri": "https://localhost:8080/",
          "height": 1717
        }
      },
      "source": [
        "history_pers = model_pers.fit(x_train_pers,y_train,batch_size=32,epochs=50,verbose=2)"
      ],
      "execution_count": null,
      "outputs": [
        {
          "output_type": "stream",
          "text": [
            "Epoch 1/50\n",
            " - 0s - loss: 0.3585 - accuracy: 0.9049\n",
            "Epoch 2/50\n",
            " - 0s - loss: 0.2524 - accuracy: 0.9077\n",
            "Epoch 3/50\n",
            " - 0s - loss: 0.2254 - accuracy: 0.9077\n",
            "Epoch 4/50\n",
            " - 0s - loss: 0.1979 - accuracy: 0.9080\n",
            "Epoch 5/50\n",
            " - 0s - loss: 0.1727 - accuracy: 0.9271\n",
            "Epoch 6/50\n",
            " - 0s - loss: 0.1493 - accuracy: 0.9446\n",
            "Epoch 7/50\n",
            " - 0s - loss: 0.1289 - accuracy: 0.9554\n",
            "Epoch 8/50\n",
            " - 0s - loss: 0.1119 - accuracy: 0.9634\n",
            "Epoch 9/50\n",
            " - 0s - loss: 0.1005 - accuracy: 0.9677\n",
            "Epoch 10/50\n",
            " - 0s - loss: 0.0950 - accuracy: 0.9689\n",
            "Epoch 11/50\n",
            " - 0s - loss: 0.0882 - accuracy: 0.9711\n",
            "Epoch 12/50\n",
            " - 0s - loss: 0.0846 - accuracy: 0.9734\n",
            "Epoch 13/50\n",
            " - 0s - loss: 0.0815 - accuracy: 0.9746\n",
            "Epoch 14/50\n",
            " - 0s - loss: 0.0786 - accuracy: 0.9737\n",
            "Epoch 15/50\n",
            " - 0s - loss: 0.0775 - accuracy: 0.9751\n",
            "Epoch 16/50\n",
            " - 0s - loss: 0.0760 - accuracy: 0.9749\n",
            "Epoch 17/50\n",
            " - 0s - loss: 0.0760 - accuracy: 0.9751\n",
            "Epoch 18/50\n",
            " - 0s - loss: 0.0739 - accuracy: 0.9771\n",
            "Epoch 19/50\n",
            " - 0s - loss: 0.0738 - accuracy: 0.9774\n",
            "Epoch 20/50\n",
            " - 0s - loss: 0.0716 - accuracy: 0.9763\n",
            "Epoch 21/50\n",
            " - 0s - loss: 0.0703 - accuracy: 0.9760\n",
            "Epoch 22/50\n",
            " - 0s - loss: 0.0708 - accuracy: 0.9754\n",
            "Epoch 23/50\n",
            " - 0s - loss: 0.0703 - accuracy: 0.9760\n",
            "Epoch 24/50\n",
            " - 0s - loss: 0.0682 - accuracy: 0.9769\n",
            "Epoch 25/50\n",
            " - 0s - loss: 0.0683 - accuracy: 0.9780\n",
            "Epoch 26/50\n",
            " - 0s - loss: 0.0677 - accuracy: 0.9774\n",
            "Epoch 27/50\n",
            " - 0s - loss: 0.0695 - accuracy: 0.9763\n",
            "Epoch 28/50\n",
            " - 0s - loss: 0.0695 - accuracy: 0.9754\n",
            "Epoch 29/50\n",
            " - 0s - loss: 0.0672 - accuracy: 0.9786\n",
            "Epoch 30/50\n",
            " - 0s - loss: 0.0655 - accuracy: 0.9771\n",
            "Epoch 31/50\n",
            " - 0s - loss: 0.0665 - accuracy: 0.9760\n",
            "Epoch 32/50\n",
            " - 0s - loss: 0.0669 - accuracy: 0.9783\n",
            "Epoch 33/50\n",
            " - 0s - loss: 0.0667 - accuracy: 0.9780\n",
            "Epoch 34/50\n",
            " - 0s - loss: 0.0656 - accuracy: 0.9769\n",
            "Epoch 35/50\n",
            " - 0s - loss: 0.0646 - accuracy: 0.9783\n",
            "Epoch 36/50\n",
            " - 0s - loss: 0.0642 - accuracy: 0.9780\n",
            "Epoch 37/50\n",
            " - 0s - loss: 0.0640 - accuracy: 0.9789\n",
            "Epoch 38/50\n",
            " - 0s - loss: 0.0644 - accuracy: 0.9777\n",
            "Epoch 39/50\n",
            " - 0s - loss: 0.0632 - accuracy: 0.9803\n",
            "Epoch 40/50\n",
            " - 0s - loss: 0.0634 - accuracy: 0.9797\n",
            "Epoch 41/50\n",
            " - 0s - loss: 0.0634 - accuracy: 0.9774\n",
            "Epoch 42/50\n",
            " - 0s - loss: 0.0634 - accuracy: 0.9769\n",
            "Epoch 43/50\n",
            " - 0s - loss: 0.0630 - accuracy: 0.9783\n",
            "Epoch 44/50\n",
            " - 0s - loss: 0.0630 - accuracy: 0.9769\n",
            "Epoch 45/50\n",
            " - 0s - loss: 0.0629 - accuracy: 0.9783\n",
            "Epoch 46/50\n",
            " - 0s - loss: 0.0626 - accuracy: 0.9797\n",
            "Epoch 47/50\n",
            " - 0s - loss: 0.0630 - accuracy: 0.9789\n",
            "Epoch 48/50\n",
            " - 0s - loss: 0.0627 - accuracy: 0.9789\n",
            "Epoch 49/50\n",
            " - 0s - loss: 0.0619 - accuracy: 0.9794\n",
            "Epoch 50/50\n",
            " - 0s - loss: 0.0620 - accuracy: 0.9791\n"
          ],
          "name": "stdout"
        }
      ]
    },
    {
      "cell_type": "code",
      "metadata": {
        "id": "7v8MrWG-hsgX",
        "outputId": "b0ce6d09-7a30-4f5d-9779-a70af064d34c",
        "colab": {
          "base_uri": "https://localhost:8080/",
          "height": 34
        }
      },
      "source": [
        "y_pred_pers = model_pers.predict(x_test_pers)\n",
        "print(accuracy_score(y_test,y_pred_pers.round()))"
      ],
      "execution_count": null,
      "outputs": [
        {
          "output_type": "stream",
          "text": [
            "0.98\n"
          ],
          "name": "stdout"
        }
      ]
    },
    {
      "cell_type": "code",
      "metadata": {
        "id": "8DjHn8lzh6ku"
      },
      "source": [
        "model_fin = get_model_fin(x_train_fin.shape[1])"
      ],
      "execution_count": null,
      "outputs": []
    },
    {
      "cell_type": "code",
      "metadata": {
        "id": "-DDu06YPiI2a",
        "outputId": "110d4722-495d-4d1b-ac8e-c9bb85c553ac",
        "colab": {
          "base_uri": "https://localhost:8080/",
          "height": 1717
        }
      },
      "source": [
        "history_fin = model_fin.fit(x_train_fin,y_train,epochs=50,verbose=2)"
      ],
      "execution_count": null,
      "outputs": [
        {
          "output_type": "stream",
          "text": [
            "Epoch 1/50\n",
            " - 0s - loss: 0.6725 - accuracy: 0.8720\n",
            "Epoch 2/50\n",
            " - 0s - loss: 0.6318 - accuracy: 0.9080\n",
            "Epoch 3/50\n",
            " - 0s - loss: 0.5953 - accuracy: 0.9080\n",
            "Epoch 4/50\n",
            " - 0s - loss: 0.5626 - accuracy: 0.9080\n",
            "Epoch 5/50\n",
            " - 0s - loss: 0.5334 - accuracy: 0.9080\n",
            "Epoch 6/50\n",
            " - 0s - loss: 0.5072 - accuracy: 0.9080\n",
            "Epoch 7/50\n",
            " - 0s - loss: 0.4839 - accuracy: 0.9080\n",
            "Epoch 8/50\n",
            " - 0s - loss: 0.4631 - accuracy: 0.9080\n",
            "Epoch 9/50\n",
            " - 0s - loss: 0.4446 - accuracy: 0.9080\n",
            "Epoch 10/50\n",
            " - 0s - loss: 0.4281 - accuracy: 0.9080\n",
            "Epoch 11/50\n",
            " - 0s - loss: 0.4129 - accuracy: 0.9080\n",
            "Epoch 12/50\n",
            " - 0s - loss: 0.3984 - accuracy: 0.9080\n",
            "Epoch 13/50\n",
            " - 0s - loss: 0.3845 - accuracy: 0.9080\n",
            "Epoch 14/50\n",
            " - 0s - loss: 0.3713 - accuracy: 0.9080\n",
            "Epoch 15/50\n",
            " - 0s - loss: 0.3599 - accuracy: 0.9083\n",
            "Epoch 16/50\n",
            " - 0s - loss: 0.3492 - accuracy: 0.9080\n",
            "Epoch 17/50\n",
            " - 0s - loss: 0.3402 - accuracy: 0.9080\n",
            "Epoch 18/50\n",
            " - 0s - loss: 0.3320 - accuracy: 0.9086\n",
            "Epoch 19/50\n",
            " - 0s - loss: 0.3250 - accuracy: 0.9094\n",
            "Epoch 20/50\n",
            " - 0s - loss: 0.3188 - accuracy: 0.9106\n",
            "Epoch 21/50\n",
            " - 0s - loss: 0.3132 - accuracy: 0.9140\n",
            "Epoch 22/50\n",
            " - 0s - loss: 0.3081 - accuracy: 0.9140\n",
            "Epoch 23/50\n",
            " - 0s - loss: 0.3036 - accuracy: 0.9140\n",
            "Epoch 24/50\n",
            " - 0s - loss: 0.2998 - accuracy: 0.9140\n",
            "Epoch 25/50\n",
            " - 0s - loss: 0.2965 - accuracy: 0.9140\n",
            "Epoch 26/50\n",
            " - 0s - loss: 0.2931 - accuracy: 0.9140\n",
            "Epoch 27/50\n",
            " - 0s - loss: 0.2907 - accuracy: 0.9140\n",
            "Epoch 28/50\n",
            " - 0s - loss: 0.2881 - accuracy: 0.9140\n",
            "Epoch 29/50\n",
            " - 0s - loss: 0.2861 - accuracy: 0.9140\n",
            "Epoch 30/50\n",
            " - 0s - loss: 0.2841 - accuracy: 0.9140\n",
            "Epoch 31/50\n",
            " - 0s - loss: 0.2822 - accuracy: 0.9140\n",
            "Epoch 32/50\n",
            " - 0s - loss: 0.2808 - accuracy: 0.9140\n",
            "Epoch 33/50\n",
            " - 0s - loss: 0.2794 - accuracy: 0.9140\n",
            "Epoch 34/50\n",
            " - 0s - loss: 0.2783 - accuracy: 0.9140\n",
            "Epoch 35/50\n",
            " - 0s - loss: 0.2774 - accuracy: 0.9140\n",
            "Epoch 36/50\n",
            " - 0s - loss: 0.2764 - accuracy: 0.9140\n",
            "Epoch 37/50\n",
            " - 0s - loss: 0.2755 - accuracy: 0.9140\n",
            "Epoch 38/50\n",
            " - 0s - loss: 0.2758 - accuracy: 0.9137\n",
            "Epoch 39/50\n",
            " - 0s - loss: 0.2744 - accuracy: 0.9140\n",
            "Epoch 40/50\n",
            " - 0s - loss: 0.2739 - accuracy: 0.9140\n",
            "Epoch 41/50\n",
            " - 0s - loss: 0.2737 - accuracy: 0.9140\n",
            "Epoch 42/50\n",
            " - 0s - loss: 0.2732 - accuracy: 0.9140\n",
            "Epoch 43/50\n",
            " - 0s - loss: 0.2728 - accuracy: 0.9140\n",
            "Epoch 44/50\n",
            " - 0s - loss: 0.2726 - accuracy: 0.9140\n",
            "Epoch 45/50\n",
            " - 0s - loss: 0.2725 - accuracy: 0.9140\n",
            "Epoch 46/50\n",
            " - 0s - loss: 0.2722 - accuracy: 0.9140\n",
            "Epoch 47/50\n",
            " - 0s - loss: 0.2720 - accuracy: 0.9140\n",
            "Epoch 48/50\n",
            " - 0s - loss: 0.2720 - accuracy: 0.9140\n",
            "Epoch 49/50\n",
            " - 0s - loss: 0.2717 - accuracy: 0.9140\n",
            "Epoch 50/50\n",
            " - 0s - loss: 0.2714 - accuracy: 0.9140\n"
          ],
          "name": "stdout"
        }
      ]
    },
    {
      "cell_type": "code",
      "metadata": {
        "id": "OXzipooHiNzI",
        "outputId": "4e23cd41-cfdd-4ace-b67a-00ef0dfaa4d5",
        "colab": {
          "base_uri": "https://localhost:8080/",
          "height": 34
        }
      },
      "source": [
        "y_pred_fin = model_fin.predict(x_test_fin)\n",
        "print(accuracy_score(y_test,y_pred_fin.round()))"
      ],
      "execution_count": null,
      "outputs": [
        {
          "output_type": "stream",
          "text": [
            "0.9093333333333333\n"
          ],
          "name": "stdout"
        }
      ]
    },
    {
      "cell_type": "code",
      "metadata": {
        "id": "U2gFvU4kiolN",
        "outputId": "076799b7-2613-4c72-a631-a0c9238e6af4",
        "colab": {
          "base_uri": "https://localhost:8080/",
          "height": 34
        }
      },
      "source": [
        "1 - sum(y_test)/y_test.shape[0]"
      ],
      "execution_count": null,
      "outputs": [
        {
          "output_type": "execute_result",
          "data": {
            "text/plain": [
              "0.8953333333333333"
            ]
          },
          "metadata": {
            "tags": []
          },
          "execution_count": 60
        }
      ]
    },
    {
      "cell_type": "code",
      "metadata": {
        "id": "6MtXMq6EjqMi",
        "outputId": "ed64c1f8-54c6-439d-ab65-7428d437f33e",
        "colab": {
          "base_uri": "https://localhost:8080/",
          "height": 289
        }
      },
      "source": [
        "model_pers.summary()"
      ],
      "execution_count": null,
      "outputs": [
        {
          "output_type": "stream",
          "text": [
            "Model: \"sequential_11\"\n",
            "_________________________________________________________________\n",
            "Layer (type)                 Output Shape              Param #   \n",
            "=================================================================\n",
            "dense_35 (Dense)             (None, 6)                 42        \n",
            "_________________________________________________________________\n",
            "dense_36 (Dense)             (None, 12)                84        \n",
            "_________________________________________________________________\n",
            "dense_37 (Dense)             (None, 6)                 78        \n",
            "_________________________________________________________________\n",
            "dense_38 (Dense)             (None, 1)                 7         \n",
            "=================================================================\n",
            "Total params: 211\n",
            "Trainable params: 211\n",
            "Non-trainable params: 0\n",
            "_________________________________________________________________\n"
          ],
          "name": "stdout"
        }
      ]
    },
    {
      "cell_type": "code",
      "metadata": {
        "id": "_RbplSrjpYW9",
        "outputId": "276894fe-df94-45be-9946-11d03d413275",
        "colab": {
          "base_uri": "https://localhost:8080/",
          "height": 289
        }
      },
      "source": [
        "model_fin.summary()"
      ],
      "execution_count": null,
      "outputs": [
        {
          "output_type": "stream",
          "text": [
            "Model: \"sequential_12\"\n",
            "_________________________________________________________________\n",
            "Layer (type)                 Output Shape              Param #   \n",
            "=================================================================\n",
            "dense_39 (Dense)             (None, 4)                 20        \n",
            "_________________________________________________________________\n",
            "dense_40 (Dense)             (None, 8)                 40        \n",
            "_________________________________________________________________\n",
            "dense_41 (Dense)             (None, 4)                 36        \n",
            "_________________________________________________________________\n",
            "dense_42 (Dense)             (None, 1)                 5         \n",
            "=================================================================\n",
            "Total params: 101\n",
            "Trainable params: 101\n",
            "Non-trainable params: 0\n",
            "_________________________________________________________________\n"
          ],
          "name": "stdout"
        }
      ]
    },
    {
      "cell_type": "code",
      "metadata": {
        "id": "tQvcRbFppvxe"
      },
      "source": [
        "from keras.models import Model"
      ],
      "execution_count": null,
      "outputs": []
    },
    {
      "cell_type": "code",
      "metadata": {
        "id": "IvyRx7rophSt"
      },
      "source": [
        "def return_intermed(model):\n",
        "  return Model(inputs=model.layers[0].input, outputs=model.layers[2].output)"
      ],
      "execution_count": null,
      "outputs": []
    },
    {
      "cell_type": "code",
      "metadata": {
        "id": "WEeW5EF1qCKH"
      },
      "source": [
        "mod_intermed_pers = return_intermed(model_pers)"
      ],
      "execution_count": null,
      "outputs": []
    },
    {
      "cell_type": "code",
      "metadata": {
        "id": "voawLKyQqIgx"
      },
      "source": [
        "train_pers_inter = mod_intermed_pers.predict(x_train_pers)"
      ],
      "execution_count": null,
      "outputs": []
    },
    {
      "cell_type": "code",
      "metadata": {
        "id": "TklFNVwGqPnw"
      },
      "source": [
        "mod_intermed_fin = return_intermed(model_fin)"
      ],
      "execution_count": null,
      "outputs": []
    },
    {
      "cell_type": "code",
      "metadata": {
        "id": "hNUV_2_oqRb4"
      },
      "source": [
        "train_fin_inter = mod_intermed_fin.predict(x_train_fin)"
      ],
      "execution_count": null,
      "outputs": []
    },
    {
      "cell_type": "code",
      "metadata": {
        "id": "vKHl4os4qd8n"
      },
      "source": [
        "train_combined_inter = np.concatenate((train_pers_inter,train_fin_inter),axis=1)"
      ],
      "execution_count": null,
      "outputs": []
    },
    {
      "cell_type": "code",
      "metadata": {
        "id": "yKAjJbxdqf4v",
        "outputId": "81ac8348-7ded-44e1-b59d-807e432daf49",
        "colab": {
          "base_uri": "https://localhost:8080/",
          "height": 34
        }
      },
      "source": [
        "train_combined_inter.shape"
      ],
      "execution_count": null,
      "outputs": [
        {
          "output_type": "execute_result",
          "data": {
            "text/plain": [
              "(3500, 10)"
            ]
          },
          "metadata": {
            "tags": []
          },
          "execution_count": 86
        }
      ]
    },
    {
      "cell_type": "code",
      "metadata": {
        "id": "S2bAsc_pq4A7"
      },
      "source": [
        "test_pers_inter = mod_intermed_pers.predict(x_test_pers)\n",
        "test_fin_inter = mod_intermed_fin.predict(x_test_fin)\n",
        "\n",
        "test_combined_inter = np.concatenate((test_pers_inter,test_fin_inter),axis=1)"
      ],
      "execution_count": null,
      "outputs": []
    },
    {
      "cell_type": "code",
      "metadata": {
        "id": "o43btoFQrQkM",
        "outputId": "9a38c453-620a-48ec-e1eb-463bc283535d",
        "colab": {
          "base_uri": "https://localhost:8080/",
          "height": 34
        }
      },
      "source": [
        "test_combined_inter.shape"
      ],
      "execution_count": null,
      "outputs": [
        {
          "output_type": "execute_result",
          "data": {
            "text/plain": [
              "(1500, 10)"
            ]
          },
          "metadata": {
            "tags": []
          },
          "execution_count": 88
        }
      ]
    },
    {
      "cell_type": "code",
      "metadata": {
        "id": "twwKPCs7rSRX"
      },
      "source": [
        "model_inter = model(train_combined_inter.shape[1])"
      ],
      "execution_count": null,
      "outputs": []
    },
    {
      "cell_type": "code",
      "metadata": {
        "id": "A_SARhnDraie",
        "outputId": "c605df9a-007f-40bc-e915-b3be9784aec3",
        "colab": {
          "base_uri": "https://localhost:8080/",
          "height": 1717
        }
      },
      "source": [
        "history_inter = model_inter.fit(train_combined_inter,y_train,epochs=50,verbose=2)"
      ],
      "execution_count": null,
      "outputs": [
        {
          "output_type": "stream",
          "text": [
            "Epoch 1/50\n",
            " - 0s - loss: 0.2420 - accuracy: 0.9377\n",
            "Epoch 2/50\n",
            " - 0s - loss: 0.0941 - accuracy: 0.9737\n",
            "Epoch 3/50\n",
            " - 0s - loss: 0.0728 - accuracy: 0.9777\n",
            "Epoch 4/50\n",
            " - 0s - loss: 0.0695 - accuracy: 0.9800\n",
            "Epoch 5/50\n",
            " - 0s - loss: 0.0679 - accuracy: 0.9803\n",
            "Epoch 6/50\n",
            " - 0s - loss: 0.0632 - accuracy: 0.9814\n",
            "Epoch 7/50\n",
            " - 0s - loss: 0.0665 - accuracy: 0.9789\n",
            "Epoch 8/50\n",
            " - 0s - loss: 0.0591 - accuracy: 0.9826\n",
            "Epoch 9/50\n",
            " - 0s - loss: 0.0619 - accuracy: 0.9811\n",
            "Epoch 10/50\n",
            " - 0s - loss: 0.0589 - accuracy: 0.9811\n",
            "Epoch 11/50\n",
            " - 0s - loss: 0.0602 - accuracy: 0.9814\n",
            "Epoch 12/50\n",
            " - 0s - loss: 0.0589 - accuracy: 0.9826\n",
            "Epoch 13/50\n",
            " - 0s - loss: 0.0598 - accuracy: 0.9829\n",
            "Epoch 14/50\n",
            " - 0s - loss: 0.0583 - accuracy: 0.9814\n",
            "Epoch 15/50\n",
            " - 0s - loss: 0.0557 - accuracy: 0.9837\n",
            "Epoch 16/50\n",
            " - 0s - loss: 0.0566 - accuracy: 0.9823\n",
            "Epoch 17/50\n",
            " - 0s - loss: 0.0563 - accuracy: 0.9826\n",
            "Epoch 18/50\n",
            " - 0s - loss: 0.0551 - accuracy: 0.9840\n",
            "Epoch 19/50\n",
            " - 0s - loss: 0.0531 - accuracy: 0.9823\n",
            "Epoch 20/50\n",
            " - 0s - loss: 0.0557 - accuracy: 0.9840\n",
            "Epoch 21/50\n",
            " - 0s - loss: 0.0517 - accuracy: 0.9831\n",
            "Epoch 22/50\n",
            " - 0s - loss: 0.0510 - accuracy: 0.9826\n",
            "Epoch 23/50\n",
            " - 0s - loss: 0.0542 - accuracy: 0.9823\n",
            "Epoch 24/50\n",
            " - 0s - loss: 0.0550 - accuracy: 0.9834\n",
            "Epoch 25/50\n",
            " - 0s - loss: 0.0539 - accuracy: 0.9826\n",
            "Epoch 26/50\n",
            " - 0s - loss: 0.0519 - accuracy: 0.9840\n",
            "Epoch 27/50\n",
            " - 0s - loss: 0.0526 - accuracy: 0.9829\n",
            "Epoch 28/50\n",
            " - 0s - loss: 0.0527 - accuracy: 0.9840\n",
            "Epoch 29/50\n",
            " - 0s - loss: 0.0509 - accuracy: 0.9826\n",
            "Epoch 30/50\n",
            " - 0s - loss: 0.0526 - accuracy: 0.9823\n",
            "Epoch 31/50\n",
            " - 0s - loss: 0.0527 - accuracy: 0.9831\n",
            "Epoch 32/50\n",
            " - 0s - loss: 0.0524 - accuracy: 0.9829\n",
            "Epoch 33/50\n",
            " - 0s - loss: 0.0519 - accuracy: 0.9829\n",
            "Epoch 34/50\n",
            " - 0s - loss: 0.0517 - accuracy: 0.9831\n",
            "Epoch 35/50\n",
            " - 0s - loss: 0.0520 - accuracy: 0.9826\n",
            "Epoch 36/50\n",
            " - 0s - loss: 0.0490 - accuracy: 0.9829\n",
            "Epoch 37/50\n",
            " - 0s - loss: 0.0518 - accuracy: 0.9829\n",
            "Epoch 38/50\n",
            " - 0s - loss: 0.0521 - accuracy: 0.9831\n",
            "Epoch 39/50\n",
            " - 0s - loss: 0.0527 - accuracy: 0.9837\n",
            "Epoch 40/50\n",
            " - 0s - loss: 0.0518 - accuracy: 0.9834\n",
            "Epoch 41/50\n",
            " - 0s - loss: 0.0495 - accuracy: 0.9823\n",
            "Epoch 42/50\n",
            " - 0s - loss: 0.0504 - accuracy: 0.9829\n",
            "Epoch 43/50\n",
            " - 0s - loss: 0.0515 - accuracy: 0.9820\n",
            "Epoch 44/50\n",
            " - 0s - loss: 0.0525 - accuracy: 0.9834\n",
            "Epoch 45/50\n",
            " - 0s - loss: 0.0494 - accuracy: 0.9840\n",
            "Epoch 46/50\n",
            " - 0s - loss: 0.0503 - accuracy: 0.9837\n",
            "Epoch 47/50\n",
            " - 0s - loss: 0.0497 - accuracy: 0.9840\n",
            "Epoch 48/50\n",
            " - 0s - loss: 0.0505 - accuracy: 0.9840\n",
            "Epoch 49/50\n",
            " - 0s - loss: 0.0507 - accuracy: 0.9820\n",
            "Epoch 50/50\n",
            " - 0s - loss: 0.0496 - accuracy: 0.9837\n"
          ],
          "name": "stdout"
        }
      ]
    },
    {
      "cell_type": "code",
      "metadata": {
        "id": "FhQ7VNzerjK4",
        "outputId": "8f791ba1-9e0c-4f56-bd28-7802b530fc74",
        "colab": {
          "base_uri": "https://localhost:8080/",
          "height": 34
        }
      },
      "source": [
        "y_pred_inter = model_inter.predict(test_combined_inter)\n",
        "print(accuracy_score(y_test,y_pred_inter.round()))"
      ],
      "execution_count": null,
      "outputs": [
        {
          "output_type": "stream",
          "text": [
            "0.9813333333333333\n"
          ],
          "name": "stdout"
        }
      ]
    },
    {
      "cell_type": "code",
      "metadata": {
        "id": "b0sjz_ZLr8ZO"
      },
      "source": [
        "from sklearn.metrics import classification_report"
      ],
      "execution_count": null,
      "outputs": []
    },
    {
      "cell_type": "code",
      "metadata": {
        "id": "xuBqK7oksLJq",
        "outputId": "02857a40-f047-415e-fab0-7dc07fa2f9bc",
        "colab": {
          "base_uri": "https://localhost:8080/",
          "height": 170
        }
      },
      "source": [
        "print(classification_report(y_test,y_pred.round()))"
      ],
      "execution_count": null,
      "outputs": [
        {
          "output_type": "stream",
          "text": [
            "              precision    recall  f1-score   support\n",
            "\n",
            "           0       0.99      0.99      0.99      1343\n",
            "           1       0.95      0.89      0.92       157\n",
            "\n",
            "    accuracy                           0.98      1500\n",
            "   macro avg       0.97      0.94      0.95      1500\n",
            "weighted avg       0.98      0.98      0.98      1500\n",
            "\n"
          ],
          "name": "stdout"
        }
      ]
    },
    {
      "cell_type": "code",
      "metadata": {
        "id": "0MKvssHxsTXG",
        "outputId": "212c946a-b6b9-4431-d92b-1bd0fad3b067",
        "colab": {
          "base_uri": "https://localhost:8080/",
          "height": 170
        }
      },
      "source": [
        "print(classification_report(y_test,y_pred_inter.round()))"
      ],
      "execution_count": null,
      "outputs": [
        {
          "output_type": "stream",
          "text": [
            "              precision    recall  f1-score   support\n",
            "\n",
            "           0       0.98      1.00      0.99      1343\n",
            "           1       0.96      0.85      0.91       157\n",
            "\n",
            "    accuracy                           0.98      1500\n",
            "   macro avg       0.97      0.92      0.95      1500\n",
            "weighted avg       0.98      0.98      0.98      1500\n",
            "\n"
          ],
          "name": "stdout"
        }
      ]
    },
    {
      "cell_type": "code",
      "metadata": {
        "id": "Eksce8lvsff9",
        "outputId": "3647914d-f00e-47ac-c2ef-824e931d8cd6",
        "colab": {
          "base_uri": "https://localhost:8080/",
          "height": 170
        }
      },
      "source": [
        "print(classification_report(y_test,y_pred_pers.round()))"
      ],
      "execution_count": null,
      "outputs": [
        {
          "output_type": "stream",
          "text": [
            "              precision    recall  f1-score   support\n",
            "\n",
            "           0       0.98      1.00      0.99      1343\n",
            "           1       0.96      0.84      0.90       157\n",
            "\n",
            "    accuracy                           0.98      1500\n",
            "   macro avg       0.97      0.92      0.94      1500\n",
            "weighted avg       0.98      0.98      0.98      1500\n",
            "\n"
          ],
          "name": "stdout"
        }
      ]
    },
    {
      "cell_type": "code",
      "metadata": {
        "id": "w-Q8eLPHsomW",
        "outputId": "abc6baea-6459-4210-ce1a-22df38faf54b",
        "colab": {
          "base_uri": "https://localhost:8080/",
          "height": 170
        }
      },
      "source": [
        "print(classification_report(y_test,y_pred_fin.round()))"
      ],
      "execution_count": null,
      "outputs": [
        {
          "output_type": "stream",
          "text": [
            "              precision    recall  f1-score   support\n",
            "\n",
            "           0       0.92      0.98      0.95      1343\n",
            "           1       0.65      0.29      0.40       157\n",
            "\n",
            "    accuracy                           0.91      1500\n",
            "   macro avg       0.79      0.63      0.67      1500\n",
            "weighted avg       0.89      0.91      0.89      1500\n",
            "\n"
          ],
          "name": "stdout"
        }
      ]
    },
    {
      "cell_type": "code",
      "metadata": {
        "id": "lC5ZaSuEss6o"
      },
      "source": [
        "import matplotlib.pyplot as plt"
      ],
      "execution_count": null,
      "outputs": []
    },
    {
      "cell_type": "code",
      "metadata": {
        "id": "f2tLtFjNtXvO"
      },
      "source": [
        "# summarize history for accuracy and loss during training\n",
        "def get_training_plot(history,string):\n",
        "  plt.plot(history.history['accuracy'])\n",
        "  plt.plot(history.history['loss'])\n",
        "  title_cap = \"Model accuracy and loss variation for \" + string\n",
        "  plt.title(title_cap)\n",
        "  plt.ylabel('Value')\n",
        "  plt.xlabel('epoch')\n",
        "  plt.legend(['Accuracy', 'Loss'], loc='center right')\n",
        "  plt.show()"
      ],
      "execution_count": null,
      "outputs": []
    },
    {
      "cell_type": "code",
      "metadata": {
        "id": "qNrA_LzZttFk",
        "outputId": "f37b7454-2e21-40c8-9dbf-47b12b556c52",
        "colab": {
          "base_uri": "https://localhost:8080/",
          "height": 295
        }
      },
      "source": [
        "get_training_plot(history_combined,\"training on complete data\")"
      ],
      "execution_count": null,
      "outputs": [
        {
          "output_type": "display_data",
          "data": {
            "image/png": "[encoded data removed]",
            "text/plain": [
              "<Figure size 432x288 with 1 Axes>"
            ]
          },
          "metadata": {
            "tags": [],
            "needs_background": "light"
          }
        }
      ]
    },
    {
      "cell_type": "code",
      "metadata": {
        "id": "qWcvJxycuJNW",
        "outputId": "4c00049e-b026-42a1-826f-590243ad6c4c",
        "colab": {
          "base_uri": "https://localhost:8080/",
          "height": 295
        }
      },
      "source": [
        "get_training_plot(history_inter,\"training on intermediate vectors\")"
      ],
      "execution_count": null,
      "outputs": [
        {
          "output_type": "display_data",
          "data": {
            "image/png": "[encoded data removed]",
            "text/plain": [
              "<Figure size 432x288 with 1 Axes>"
            ]
          },
          "metadata": {
            "tags": [],
            "needs_background": "light"
          }
        }
      ]
    },
    {
      "cell_type": "code",
      "metadata": {
        "id": "8rxCd8D8ufVA",
        "outputId": "4ac12812-fce4-4308-ebcd-29f729f04163",
        "colab": {
          "base_uri": "https://localhost:8080/",
          "height": 295
        }
      },
      "source": [
        "get_training_plot(history_pers,\"training on only personal details\")"
      ],
      "execution_count": null,
      "outputs": [
        {
          "output_type": "display_data",
          "data": {
            "image/png": "[encoded data removed]",
            "text/plain": [
              "<Figure size 432x288 with 1 Axes>"
            ]
          },
          "metadata": {
            "tags": [],
            "needs_background": "light"
          }
        }
      ]
    },
    {
      "cell_type": "code",
      "metadata": {
        "id": "8AnYQKZAupBu",
        "outputId": "ccca7549-50ac-4156-e1b1-25a5bffc4185",
        "colab": {
          "base_uri": "https://localhost:8080/",
          "height": 295
        }
      },
      "source": [
        "get_training_plot(history_fin,\"training on only financial details\")"
      ],
      "execution_count": null,
      "outputs": [
        {
          "output_type": "display_data",
          "data": {
            "image/png": "[encoded data removed]",
            "text/plain": [
              "<Figure size 432x288 with 1 Axes>"
            ]
          },
          "metadata": {
            "tags": [],
            "needs_background": "light"
          }
        }
      ]
    },
    {
      "cell_type": "markdown",
      "metadata": {
        "id": "Z3hjLaRGx_4v"
      },
      "source": [
        "***And finally, Jai Mata Di! :D***"
      ]
    },
    {
      "cell_type": "code",
      "metadata": {
        "id": "WRKgcM1PuuKu"
      },
      "source": [
        ""
      ],
      "execution_count": null,
      "outputs": []
    }
  ]
}